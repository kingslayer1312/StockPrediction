{
 "cells": [
  {
   "cell_type": "code",
   "execution_count": 63,
   "metadata": {},
   "outputs": [],
   "source": [
    "import pandas as pd\n",
    "import numpy as np\n",
    "from sklearn.preprocessing import MinMaxScaler\n",
    "from keras.models import Sequential\n",
    "from keras.layers import LSTM, Dense\n",
    "import seaborn as sns\n",
    "import matplotlib.pyplot as plt"
   ]
  },
  {
   "cell_type": "code",
   "execution_count": 64,
   "metadata": {},
   "outputs": [],
   "source": [
    "data = pd.read_csv(\"data/tatamotors.csv\")"
   ]
  },
  {
   "cell_type": "code",
   "execution_count": 65,
   "metadata": {},
   "outputs": [],
   "source": [
    "sequence_length = 12"
   ]
  },
  {
   "cell_type": "code",
   "execution_count": 66,
   "metadata": {},
   "outputs": [],
   "source": [
    "features = ['Open', 'High', 'Low', 'Close', 'Adj Close', 'Volume']"
   ]
  },
  {
   "cell_type": "code",
   "execution_count": 67,
   "metadata": {},
   "outputs": [],
   "source": [
    "scaler = MinMaxScaler(feature_range=(0, 1))\n",
    "scaled_data = scaler.fit_transform(data[features])"
   ]
  },
  {
   "cell_type": "code",
   "execution_count": 68,
   "metadata": {},
   "outputs": [],
   "source": [
    "def create_sequences(data, sequence_length):\n",
    "    X, y = [], []\n",
    "    for i in range(len(data) - sequence_length):\n",
    "        X.append(data[i:i+sequence_length])\n",
    "        y.append(data[i+sequence_length])\n",
    "    return np.array(X), np.array(y)"
   ]
  },
  {
   "cell_type": "code",
   "execution_count": 69,
   "metadata": {},
   "outputs": [],
   "source": [
    "X, y = create_sequences(scaled_data, sequence_length)"
   ]
  },
  {
   "cell_type": "code",
   "execution_count": 70,
   "metadata": {},
   "outputs": [],
   "source": [
    "split = int(0.8 * len(X))\n",
    "X_train, X_test = X[:split], X[split:]\n",
    "y_train, y_test = y[:split], y[split:]"
   ]
  },
  {
   "cell_type": "code",
   "execution_count": 112,
   "metadata": {},
   "outputs": [
    {
     "name": "stdout",
     "output_type": "stream",
     "text": [
      "WARNING:tensorflow:Layer lstm_7 will not use cuDNN kernels since it doesn't meet the criteria. It will use a generic GPU kernel as fallback when running on GPU.\n"
     ]
    }
   ],
   "source": [
    "model = Sequential([\n",
    "    LSTM(75, activation='selu', input_shape=(X_train.shape[1], X_train.shape[2])),\n",
    "    Dense(len(features))\n",
    "])"
   ]
  },
  {
   "cell_type": "code",
   "execution_count": 113,
   "metadata": {},
   "outputs": [],
   "source": [
    "model.compile(optimizer='adam', loss='mse')"
   ]
  },
  {
   "cell_type": "code",
   "execution_count": 114,
   "metadata": {},
   "outputs": [
    {
     "name": "stdout",
     "output_type": "stream",
     "text": [
      "Epoch 1/50\n",
      "9/9 [==============================] - 2s 61ms/step - loss: 0.0096 - val_loss: 0.0095\n",
      "Epoch 2/50\n",
      "9/9 [==============================] - 0s 39ms/step - loss: 0.0024 - val_loss: 0.0122\n",
      "Epoch 3/50\n",
      "9/9 [==============================] - 0s 42ms/step - loss: 0.0015 - val_loss: 0.0110\n",
      "Epoch 4/50\n",
      "9/9 [==============================] - 0s 42ms/step - loss: 0.0010 - val_loss: 0.0098\n",
      "Epoch 5/50\n",
      "9/9 [==============================] - 0s 43ms/step - loss: 8.7465e-04 - val_loss: 0.0121\n",
      "Epoch 6/50\n",
      "9/9 [==============================] - 0s 46ms/step - loss: 7.6743e-04 - val_loss: 0.0148\n",
      "Epoch 7/50\n",
      "9/9 [==============================] - 0s 40ms/step - loss: 6.9913e-04 - val_loss: 0.0136\n",
      "Epoch 8/50\n",
      "9/9 [==============================] - 0s 42ms/step - loss: 6.7178e-04 - val_loss: 0.0127\n",
      "Epoch 9/50\n",
      "9/9 [==============================] - 0s 46ms/step - loss: 6.2763e-04 - val_loss: 0.0127\n",
      "Epoch 10/50\n",
      "9/9 [==============================] - 0s 44ms/step - loss: 6.1594e-04 - val_loss: 0.0163\n",
      "Epoch 11/50\n",
      "9/9 [==============================] - 0s 38ms/step - loss: 6.0765e-04 - val_loss: 0.0144\n",
      "Epoch 12/50\n",
      "9/9 [==============================] - 0s 40ms/step - loss: 5.8616e-04 - val_loss: 0.0132\n",
      "Epoch 13/50\n",
      "9/9 [==============================] - 0s 38ms/step - loss: 5.7057e-04 - val_loss: 0.0197\n",
      "Epoch 14/50\n",
      "9/9 [==============================] - 0s 38ms/step - loss: 6.3379e-04 - val_loss: 0.0176\n",
      "Epoch 15/50\n",
      "9/9 [==============================] - 0s 38ms/step - loss: 5.9332e-04 - val_loss: 0.0104\n",
      "Epoch 16/50\n",
      "9/9 [==============================] - 0s 38ms/step - loss: 5.5705e-04 - val_loss: 0.0086\n",
      "Epoch 17/50\n",
      "9/9 [==============================] - 0s 39ms/step - loss: 5.7508e-04 - val_loss: 0.0091\n",
      "Epoch 18/50\n",
      "9/9 [==============================] - 0s 36ms/step - loss: 5.2058e-04 - val_loss: 0.0125\n",
      "Epoch 19/50\n",
      "9/9 [==============================] - 0s 36ms/step - loss: 5.1549e-04 - val_loss: 0.0078\n",
      "Epoch 20/50\n",
      "9/9 [==============================] - 0s 39ms/step - loss: 5.1865e-04 - val_loss: 0.0102\n",
      "Epoch 21/50\n",
      "9/9 [==============================] - 0s 38ms/step - loss: 5.0456e-04 - val_loss: 0.0117\n",
      "Epoch 22/50\n",
      "9/9 [==============================] - 0s 37ms/step - loss: 5.0494e-04 - val_loss: 0.0125\n",
      "Epoch 23/50\n",
      "9/9 [==============================] - 0s 38ms/step - loss: 5.0710e-04 - val_loss: 0.0160\n",
      "Epoch 24/50\n",
      "9/9 [==============================] - 0s 39ms/step - loss: 5.3110e-04 - val_loss: 0.0106\n",
      "Epoch 25/50\n",
      "9/9 [==============================] - 0s 43ms/step - loss: 5.4226e-04 - val_loss: 0.0065\n",
      "Epoch 26/50\n",
      "9/9 [==============================] - 0s 41ms/step - loss: 4.7638e-04 - val_loss: 0.0090\n",
      "Epoch 27/50\n",
      "9/9 [==============================] - 0s 40ms/step - loss: 4.7957e-04 - val_loss: 0.0116\n",
      "Epoch 28/50\n",
      "9/9 [==============================] - 0s 39ms/step - loss: 4.6266e-04 - val_loss: 0.0135\n",
      "Epoch 29/50\n",
      "9/9 [==============================] - 0s 45ms/step - loss: 4.4637e-04 - val_loss: 0.0070\n",
      "Epoch 30/50\n",
      "9/9 [==============================] - 0s 43ms/step - loss: 4.5018e-04 - val_loss: 0.0074\n",
      "Epoch 31/50\n",
      "9/9 [==============================] - 0s 43ms/step - loss: 4.5487e-04 - val_loss: 0.0087\n",
      "Epoch 32/50\n",
      "9/9 [==============================] - 0s 40ms/step - loss: 4.5909e-04 - val_loss: 0.0106\n",
      "Epoch 33/50\n",
      "9/9 [==============================] - 0s 42ms/step - loss: 4.5253e-04 - val_loss: 0.0098\n",
      "Epoch 34/50\n",
      "9/9 [==============================] - 0s 47ms/step - loss: 4.2498e-04 - val_loss: 0.0104\n",
      "Epoch 35/50\n",
      "9/9 [==============================] - 0s 42ms/step - loss: 4.1942e-04 - val_loss: 0.0080\n",
      "Epoch 36/50\n",
      "9/9 [==============================] - 0s 39ms/step - loss: 4.2461e-04 - val_loss: 0.0081\n",
      "Epoch 37/50\n",
      "9/9 [==============================] - 0s 43ms/step - loss: 3.9543e-04 - val_loss: 0.0081\n",
      "Epoch 38/50\n",
      "9/9 [==============================] - 0s 40ms/step - loss: 3.9754e-04 - val_loss: 0.0102\n",
      "Epoch 39/50\n",
      "9/9 [==============================] - 0s 38ms/step - loss: 4.0909e-04 - val_loss: 0.0108\n",
      "Epoch 40/50\n",
      "9/9 [==============================] - 0s 42ms/step - loss: 4.0593e-04 - val_loss: 0.0079\n",
      "Epoch 41/50\n",
      "9/9 [==============================] - 0s 40ms/step - loss: 4.1528e-04 - val_loss: 0.0107\n",
      "Epoch 42/50\n",
      "9/9 [==============================] - 0s 42ms/step - loss: 3.9847e-04 - val_loss: 0.0109\n",
      "Epoch 43/50\n",
      "9/9 [==============================] - 0s 39ms/step - loss: 3.8150e-04 - val_loss: 0.0047\n",
      "Epoch 44/50\n",
      "9/9 [==============================] - 0s 40ms/step - loss: 4.1237e-04 - val_loss: 0.0072\n",
      "Epoch 45/50\n",
      "9/9 [==============================] - 0s 40ms/step - loss: 3.9253e-04 - val_loss: 0.0079\n",
      "Epoch 46/50\n",
      "9/9 [==============================] - 0s 41ms/step - loss: 3.7120e-04 - val_loss: 0.0079\n",
      "Epoch 47/50\n",
      "9/9 [==============================] - 0s 43ms/step - loss: 3.7036e-04 - val_loss: 0.0140\n",
      "Epoch 48/50\n",
      "9/9 [==============================] - 0s 40ms/step - loss: 4.4629e-04 - val_loss: 0.0094\n",
      "Epoch 49/50\n",
      "9/9 [==============================] - 0s 41ms/step - loss: 3.9361e-04 - val_loss: 0.0076\n",
      "Epoch 50/50\n",
      "9/9 [==============================] - 0s 42ms/step - loss: 4.0318e-04 - val_loss: 0.0086\n"
     ]
    },
    {
     "data": {
      "text/plain": [
       "<keras.src.callbacks.History at 0x7efdc32980a0>"
      ]
     },
     "execution_count": 114,
     "metadata": {},
     "output_type": "execute_result"
    }
   ],
   "source": [
    "model.fit(X_train, y_train, epochs=50, batch_size=32, validation_split=0.1)"
   ]
  },
  {
   "cell_type": "code",
   "execution_count": 115,
   "metadata": {},
   "outputs": [],
   "source": [
    "forecast = []\n",
    "current_batch = X_test[-1].reshape((1, sequence_length, len(features)))"
   ]
  },
  {
   "cell_type": "code",
   "execution_count": 116,
   "metadata": {},
   "outputs": [
    {
     "name": "stdout",
     "output_type": "stream",
     "text": [
      "1/1 [==============================] - 0s 180ms/step\n",
      "1/1 [==============================] - 0s 22ms/step\n",
      "1/1 [==============================] - 0s 24ms/step\n",
      "1/1 [==============================] - 0s 30ms/step\n",
      "1/1 [==============================] - 0s 22ms/step\n",
      "1/1 [==============================] - 0s 20ms/step\n",
      "1/1 [==============================] - 0s 20ms/step\n",
      "1/1 [==============================] - 0s 23ms/step\n",
      "1/1 [==============================] - 0s 25ms/step\n",
      "1/1 [==============================] - 0s 22ms/step\n",
      "1/1 [==============================] - 0s 23ms/step\n",
      "1/1 [==============================] - 0s 24ms/step\n",
      "1/1 [==============================] - 0s 24ms/step\n",
      "1/1 [==============================] - 0s 22ms/step\n",
      "1/1 [==============================] - 0s 21ms/step\n",
      "1/1 [==============================] - 0s 22ms/step\n",
      "1/1 [==============================] - 0s 31ms/step\n",
      "1/1 [==============================] - 0s 20ms/step\n",
      "1/1 [==============================] - 0s 21ms/step\n",
      "1/1 [==============================] - 0s 21ms/step\n",
      "1/1 [==============================] - 0s 33ms/step\n",
      "1/1 [==============================] - 0s 24ms/step\n",
      "1/1 [==============================] - 0s 23ms/step\n",
      "1/1 [==============================] - 0s 22ms/step\n",
      "1/1 [==============================] - 0s 24ms/step\n",
      "1/1 [==============================] - 0s 32ms/step\n",
      "1/1 [==============================] - 0s 21ms/step\n",
      "1/1 [==============================] - 0s 22ms/step\n",
      "1/1 [==============================] - 0s 23ms/step\n",
      "1/1 [==============================] - 0s 26ms/step\n",
      "1/1 [==============================] - 0s 26ms/step\n",
      "1/1 [==============================] - 0s 21ms/step\n",
      "1/1 [==============================] - 0s 32ms/step\n",
      "1/1 [==============================] - 0s 23ms/step\n",
      "1/1 [==============================] - 0s 22ms/step\n",
      "1/1 [==============================] - 0s 24ms/step\n",
      "1/1 [==============================] - 0s 23ms/step\n",
      "1/1 [==============================] - 0s 24ms/step\n",
      "1/1 [==============================] - 0s 23ms/step\n",
      "1/1 [==============================] - 0s 22ms/step\n",
      "1/1 [==============================] - 0s 24ms/step\n",
      "1/1 [==============================] - 0s 23ms/step\n",
      "1/1 [==============================] - 0s 22ms/step\n",
      "1/1 [==============================] - 0s 24ms/step\n",
      "1/1 [==============================] - 0s 24ms/step\n",
      "1/1 [==============================] - 0s 23ms/step\n",
      "1/1 [==============================] - 0s 23ms/step\n",
      "1/1 [==============================] - 0s 25ms/step\n",
      "1/1 [==============================] - 0s 25ms/step\n",
      "1/1 [==============================] - 0s 23ms/step\n",
      "1/1 [==============================] - 0s 24ms/step\n",
      "1/1 [==============================] - 0s 23ms/step\n",
      "1/1 [==============================] - 0s 25ms/step\n",
      "1/1 [==============================] - 0s 34ms/step\n",
      "1/1 [==============================] - 0s 24ms/step\n",
      "1/1 [==============================] - 0s 25ms/step\n",
      "1/1 [==============================] - 0s 23ms/step\n",
      "1/1 [==============================] - 0s 27ms/step\n",
      "1/1 [==============================] - 0s 23ms/step\n",
      "1/1 [==============================] - 0s 24ms/step\n",
      "1/1 [==============================] - 0s 23ms/step\n",
      "1/1 [==============================] - 0s 21ms/step\n",
      "1/1 [==============================] - 0s 22ms/step\n",
      "1/1 [==============================] - 0s 22ms/step\n",
      "1/1 [==============================] - 0s 20ms/step\n",
      "1/1 [==============================] - 0s 21ms/step\n",
      "1/1 [==============================] - 0s 23ms/step\n",
      "1/1 [==============================] - 0s 22ms/step\n",
      "1/1 [==============================] - 0s 26ms/step\n",
      "1/1 [==============================] - 0s 23ms/step\n",
      "1/1 [==============================] - 0s 34ms/step\n",
      "1/1 [==============================] - 0s 22ms/step\n",
      "1/1 [==============================] - 0s 24ms/step\n",
      "1/1 [==============================] - 0s 38ms/step\n",
      "1/1 [==============================] - 0s 22ms/step\n",
      "1/1 [==============================] - 0s 22ms/step\n",
      "1/1 [==============================] - 0s 23ms/step\n"
     ]
    }
   ],
   "source": [
    "for i in range(len(y_test)):\n",
    "    current_pred = model.predict(current_batch)[0]\n",
    "    forecast.append(current_pred)\n",
    "    current_batch = np.append(current_batch[:,1:,:],[[current_pred]],axis=1)"
   ]
  },
  {
   "cell_type": "code",
   "execution_count": 117,
   "metadata": {},
   "outputs": [
    {
     "name": "stderr",
     "output_type": "stream",
     "text": [
      "/tmp/ipykernel_4072/1701601951.py:2: FutureWarning: 'M' is deprecated and will be removed in a future version, please use 'ME' instead.\n",
      "  forecast_dates = pd.date_range(start=data['Date'].iloc[-1], periods=len(forecast)+1, freq='M')[1:]\n"
     ]
    }
   ],
   "source": [
    "forecast = scaler.inverse_transform(forecast)\n",
    "forecast_dates = pd.date_range(start=data['Date'].iloc[-1], periods=len(forecast)+1, freq='M')[1:]\n",
    "forecast_df = pd.DataFrame(forecast, columns=features)\n",
    "forecast_df['Date'] = forecast_dates"
   ]
  },
  {
   "cell_type": "code",
   "execution_count": 121,
   "metadata": {},
   "outputs": [
    {
     "name": "stdout",
     "output_type": "stream",
     "text": [
      "         Date        Close\n",
      "0  2024-03-31   799.211930\n",
      "1  2024-04-30   811.330616\n",
      "2  2024-05-31   834.571897\n",
      "3  2024-06-30   861.714637\n",
      "4  2024-07-31   890.618215\n",
      "..        ...          ...\n",
      "72 2030-03-31  2119.085399\n",
      "73 2030-04-30  2124.794527\n",
      "74 2030-05-31  2130.291177\n",
      "75 2030-06-30  2135.583070\n",
      "76 2030-07-31  2140.671089\n",
      "\n",
      "[77 rows x 2 columns]\n",
      "Date: 2024-03-31 00:00:00, Forecasted Close Price: 799.2119295489257\n",
      "Date: 2024-04-30 00:00:00, Forecasted Close Price: 811.3306158037221\n",
      "Date: 2024-05-31 00:00:00, Forecasted Close Price: 834.5718971500403\n",
      "Date: 2024-06-30 00:00:00, Forecasted Close Price: 861.7146366803905\n",
      "Date: 2024-07-31 00:00:00, Forecasted Close Price: 890.6182147373802\n",
      "Date: 2024-08-31 00:00:00, Forecasted Close Price: 919.8670433531768\n",
      "Date: 2024-09-30 00:00:00, Forecasted Close Price: 949.1497957736811\n",
      "Date: 2024-10-31 00:00:00, Forecasted Close Price: 980.4700174210033\n",
      "Date: 2024-11-30 00:00:00, Forecasted Close Price: 1012.8224053019724\n",
      "Date: 2024-12-31 00:00:00, Forecasted Close Price: 1046.2225147221616\n",
      "Date: 2025-01-31 00:00:00, Forecasted Close Price: 1079.460562128966\n",
      "Date: 2025-02-28 00:00:00, Forecasted Close Price: 1111.025255812817\n",
      "Date: 2025-03-31 00:00:00, Forecasted Close Price: 1140.219034091868\n",
      "Date: 2025-04-30 00:00:00, Forecasted Close Price: 1169.982070362114\n",
      "Date: 2025-05-31 00:00:00, Forecasted Close Price: 1199.4184452153197\n",
      "Date: 2025-06-30 00:00:00, Forecasted Close Price: 1228.4102251645497\n",
      "Date: 2025-07-31 00:00:00, Forecasted Close Price: 1256.9237622083863\n",
      "Date: 2025-08-31 00:00:00, Forecasted Close Price: 1284.9307037685862\n",
      "Date: 2025-09-30 00:00:00, Forecasted Close Price: 1312.3754479018232\n",
      "Date: 2025-10-31 00:00:00, Forecasted Close Price: 1339.2178376490285\n",
      "Date: 2025-11-30 00:00:00, Forecasted Close Price: 1365.4345952125004\n",
      "Date: 2025-12-31 00:00:00, Forecasted Close Price: 1391.0398417207023\n",
      "Date: 2026-01-31 00:00:00, Forecasted Close Price: 1416.1874754096261\n",
      "Date: 2026-02-28 00:00:00, Forecasted Close Price: 1440.6900603631786\n",
      "Date: 2026-03-31 00:00:00, Forecasted Close Price: 1464.5992269573053\n",
      "Date: 2026-04-30 00:00:00, Forecasted Close Price: 1487.9113345885744\n",
      "Date: 2026-05-31 00:00:00, Forecasted Close Price: 1511.507188644912\n",
      "Date: 2026-06-30 00:00:00, Forecasted Close Price: 1534.4243459644606\n",
      "Date: 2026-07-31 00:00:00, Forecasted Close Price: 1556.7704801517568\n",
      "Date: 2026-08-31 00:00:00, Forecasted Close Price: 1578.599428009068\n",
      "Date: 2026-09-30 00:00:00, Forecasted Close Price: 1599.8464309238307\n",
      "Date: 2026-10-31 00:00:00, Forecasted Close Price: 1620.542599507191\n",
      "Date: 2026-11-30 00:00:00, Forecasted Close Price: 1640.7699024970284\n",
      "Date: 2026-12-31 00:00:00, Forecasted Close Price: 1660.4931473934998\n",
      "Date: 2027-01-31 00:00:00, Forecasted Close Price: 1679.7073697373798\n",
      "Date: 2027-02-28 00:00:00, Forecasted Close Price: 1698.4082669973395\n",
      "Date: 2027-03-31 00:00:00, Forecasted Close Price: 1716.6336793848088\n",
      "Date: 2027-04-30 00:00:00, Forecasted Close Price: 1734.4261909278116\n",
      "Date: 2027-05-31 00:00:00, Forecasted Close Price: 1751.7683708584002\n",
      "Date: 2027-06-30 00:00:00, Forecasted Close Price: 1768.662204960265\n",
      "Date: 2027-07-31 00:00:00, Forecasted Close Price: 1785.0777961567364\n",
      "Date: 2027-08-31 00:00:00, Forecasted Close Price: 1801.0322442518136\n",
      "Date: 2027-09-30 00:00:00, Forecasted Close Price: 1816.5628378503463\n",
      "Date: 2027-10-31 00:00:00, Forecasted Close Price: 1831.6744310902438\n",
      "Date: 2027-11-30 00:00:00, Forecasted Close Price: 1846.3649278664998\n",
      "Date: 2027-12-31 00:00:00, Forecasted Close Price: 1860.6610259376157\n",
      "Date: 2028-01-31 00:00:00, Forecasted Close Price: 1874.5815902486493\n",
      "Date: 2028-02-29 00:00:00, Forecasted Close Price: 1888.1235318027486\n",
      "Date: 2028-03-31 00:00:00, Forecasted Close Price: 1901.2846441735912\n",
      "Date: 2028-04-30 00:00:00, Forecasted Close Price: 1914.0914044770468\n",
      "Date: 2028-05-31 00:00:00, Forecasted Close Price: 1926.5135846724977\n",
      "Date: 2028-06-30 00:00:00, Forecasted Close Price: 1938.5597898226013\n",
      "Date: 2028-07-31 00:00:00, Forecasted Close Price: 1950.2417139868667\n",
      "Date: 2028-08-31 00:00:00, Forecasted Close Price: 1961.587378779589\n",
      "Date: 2028-09-30 00:00:00, Forecasted Close Price: 1972.5888410660077\n",
      "Date: 2028-10-31 00:00:00, Forecasted Close Price: 1983.249851770871\n",
      "Date: 2028-11-30 00:00:00, Forecasted Close Price: 1993.5785746715715\n",
      "Date: 2028-12-31 00:00:00, Forecasted Close Price: 2003.5803051912833\n",
      "Date: 2029-01-31 00:00:00, Forecasted Close Price: 2013.267840602677\n",
      "Date: 2029-02-28 00:00:00, Forecasted Close Price: 2022.6425047615458\n",
      "Date: 2029-03-31 00:00:00, Forecasted Close Price: 2031.7095930910637\n",
      "Date: 2029-04-30 00:00:00, Forecasted Close Price: 2040.4757248701978\n",
      "Date: 2029-05-31 00:00:00, Forecasted Close Price: 2048.9472987352838\n",
      "Date: 2029-06-30 00:00:00, Forecasted Close Price: 2057.1366706737267\n",
      "Date: 2029-07-31 00:00:00, Forecasted Close Price: 2065.0482535381725\n",
      "Date: 2029-08-31 00:00:00, Forecasted Close Price: 2072.685356968104\n",
      "Date: 2029-09-30 00:00:00, Forecasted Close Price: 2080.055262170385\n",
      "Date: 2029-10-31 00:00:00, Forecasted Close Price: 2087.1641471387197\n",
      "Date: 2029-11-30 00:00:00, Forecasted Close Price: 2094.0195137226033\n",
      "Date: 2029-12-31 00:00:00, Forecasted Close Price: 2100.634600479971\n",
      "Date: 2030-01-31 00:00:00, Forecasted Close Price: 2107.012717050307\n",
      "Date: 2030-02-28 00:00:00, Forecasted Close Price: 2113.1591588567844\n",
      "Date: 2030-03-31 00:00:00, Forecasted Close Price: 2119.08539931628\n",
      "Date: 2030-04-30 00:00:00, Forecasted Close Price: 2124.794527425646\n",
      "Date: 2030-05-31 00:00:00, Forecasted Close Price: 2130.2911766801585\n",
      "Date: 2030-06-30 00:00:00, Forecasted Close Price: 2135.583069571947\n",
      "Date: 2030-07-31 00:00:00, Forecasted Close Price: 2140.67108867154\n"
     ]
    }
   ],
   "source": [
    "print(forecast_df[['Date', 'Close']])\n",
    "for index, row in forecast_df.iterrows():\n",
    "    print(f\"Date: {row['Date']}, Forecasted Close Price: {row['Close']}\")"
   ]
  },
  {
   "cell_type": "code",
   "execution_count": 122,
   "metadata": {},
   "outputs": [
    {
     "name": "stderr",
     "output_type": "stream",
     "text": [
      "/tmp/ipykernel_4072/3439705191.py:6: FutureWarning: 'M' is deprecated and will be removed in a future version, please use 'ME' instead.\n",
      "  forecast_dates_extended = pd.date_range(start=data['Date'].iloc[-1], periods=78, freq='M')[1:]\n"
     ]
    },
    {
     "data": {
      "image/png": "[encoded data removed]",
      "text/plain": [
       "<Figure size 1200x600 with 1 Axes>"
      ]
     },
     "metadata": {},
     "output_type": "display_data"
    }
   ],
   "source": [
    "import pandas as pd\n",
    "import matplotlib.pyplot as plt\n",
    "import seaborn as sns\n",
    "\n",
    "# Extend the forecast dates until 2030\n",
    "forecast_dates_extended = pd.date_range(start=data['Date'].iloc[-1], periods=78, freq='M')[1:]\n",
    "\n",
    "# Create a dataframe for extended forecast\n",
    "forecast_df_extended = pd.DataFrame(forecast, columns=features)\n",
    "forecast_df_extended['Date'] = forecast_dates_extended\n",
    "\n",
    "# Concatenate original data and extended forecast data\n",
    "combined_data = pd.concat([data, forecast_df_extended])\n",
    "\n",
    "# Plotting\n",
    "plt.figure(figsize=(12, 6))\n",
    "sns.lineplot(x='Date', y='Close', data=combined_data, label='Combined Data')\n",
    "plt.title('Tata Motors Monthly Stock Prices Forecast Until 2030')\n",
    "plt.xlabel('Date')\n",
    "plt.ylabel('Close Price')\n",
    "plt.xticks(rotation=45)\n",
    "plt.legend()\n",
    "plt.grid(True)\n",
    "plt.show()\n",
    "\n"
   ]
  }
 ],
 "metadata": {
  "kernelspec": {
   "display_name": "tensorflow",
   "language": "python",
   "name": "python3"
  },
  "language_info": {
   "codemirror_mode": {
    "name": "ipython",
    "version": 3
   },
   "file_extension": ".py",
   "mimetype": "text/x-python",
   "name": "python",
   "nbconvert_exporter": "python",
   "pygments_lexer": "ipython3",
   "version": "3.10.13"
  }
 },
 "nbformat": 4,
 "nbformat_minor": 2
}
