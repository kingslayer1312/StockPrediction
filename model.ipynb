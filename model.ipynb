{
 "cells": [
  {
   "cell_type": "code",
   "execution_count": 63,
   "metadata": {},
   "outputs": [],
   "source": [
    "import pandas as pd\n",
    "import numpy as np\n",
    "from sklearn.preprocessing import MinMaxScaler\n",
    "from keras.models import Sequential\n",
    "from keras.layers import LSTM, Dense\n",
    "import seaborn as sns\n",
    "import matplotlib.pyplot as plt"
   ]
  },
  {
   "cell_type": "code",
   "execution_count": 64,
   "metadata": {},
   "outputs": [],
   "source": [
    "data = pd.read_csv(\"data/tatamotors.csv\")"
   ]
  },
  {
   "cell_type": "code",
   "execution_count": 65,
   "metadata": {},
   "outputs": [],
   "source": [
    "sequence_length = 12"
   ]
  },
  {
   "cell_type": "code",
   "execution_count": 66,
   "metadata": {},
   "outputs": [],
   "source": [
    "features = ['Open', 'High', 'Low', 'Close', 'Adj Close', 'Volume']"
   ]
  },
  {
   "cell_type": "code",
   "execution_count": 67,
   "metadata": {},
   "outputs": [],
   "source": [
    "scaler = MinMaxScaler(feature_range=(0, 1))\n",
    "scaled_data = scaler.fit_transform(data[features])"
   ]
  },
  {
   "cell_type": "code",
   "execution_count": 68,
   "metadata": {},
   "outputs": [],
   "source": [
    "def create_sequences(data, sequence_length):\n",
    "    X, y = [], []\n",
    "    for i in range(len(data) - sequence_length):\n",
    "        X.append(data[i:i+sequence_length])\n",
    "        y.append(data[i+sequence_length])\n",
    "    return np.array(X), np.array(y)"
   ]
  },
  {
   "cell_type": "code",
   "execution_count": 69,
   "metadata": {},
   "outputs": [],
   "source": [
    "X, y = create_sequences(scaled_data, sequence_length)"
   ]
  },
  {
   "cell_type": "code",
   "execution_count": 70,
   "metadata": {},
   "outputs": [],
   "source": [
    "split = int(0.8 * len(X))\n",
    "X_train, X_test = X[:split], X[split:]\n",
    "y_train, y_test = y[:split], y[split:]"
   ]
  },
  {
   "cell_type": "code",
   "execution_count": 89,
   "metadata": {},
   "outputs": [],
   "source": [
    "model = Sequential([\n",
    "    LSTM(70, activation='tanh', input_shape=(X_train.shape[1], X_train.shape[2])),\n",
    "    Dense(len(features))\n",
    "])"
   ]
  },
  {
   "cell_type": "code",
   "execution_count": 90,
   "metadata": {},
   "outputs": [],
   "source": [
    "model.compile(optimizer='adam', loss='mse')"
   ]
  },
  {
   "cell_type": "code",
   "execution_count": 91,
   "metadata": {},
   "outputs": [
    {
     "name": "stdout",
     "output_type": "stream",
     "text": [
      "Epoch 1/50\n"
     ]
    },
    {
     "name": "stdout",
     "output_type": "stream",
     "text": [
      "9/9 [==============================] - 2s 49ms/step - loss: 0.0092 - val_loss: 0.0098\n",
      "Epoch 2/50\n",
      "9/9 [==============================] - 0s 14ms/step - loss: 0.0031 - val_loss: 0.0082\n",
      "Epoch 3/50\n",
      "9/9 [==============================] - 0s 13ms/step - loss: 0.0014 - val_loss: 0.0098\n",
      "Epoch 4/50\n",
      "9/9 [==============================] - 0s 13ms/step - loss: 9.8668e-04 - val_loss: 0.0251\n",
      "Epoch 5/50\n",
      "9/9 [==============================] - 0s 12ms/step - loss: 9.2792e-04 - val_loss: 0.0143\n",
      "Epoch 6/50\n",
      "9/9 [==============================] - 0s 13ms/step - loss: 8.3549e-04 - val_loss: 0.0145\n",
      "Epoch 7/50\n",
      "9/9 [==============================] - 0s 12ms/step - loss: 7.6975e-04 - val_loss: 0.0144\n",
      "Epoch 8/50\n",
      "9/9 [==============================] - 0s 12ms/step - loss: 7.4531e-04 - val_loss: 0.0133\n",
      "Epoch 9/50\n",
      "9/9 [==============================] - 0s 11ms/step - loss: 7.2095e-04 - val_loss: 0.0144\n",
      "Epoch 10/50\n",
      "9/9 [==============================] - 0s 12ms/step - loss: 7.0872e-04 - val_loss: 0.0129\n",
      "Epoch 11/50\n",
      "9/9 [==============================] - 0s 11ms/step - loss: 7.0893e-04 - val_loss: 0.0127\n",
      "Epoch 12/50\n",
      "9/9 [==============================] - 0s 12ms/step - loss: 6.8459e-04 - val_loss: 0.0145\n",
      "Epoch 13/50\n",
      "9/9 [==============================] - 0s 11ms/step - loss: 6.8872e-04 - val_loss: 0.0125\n",
      "Epoch 14/50\n",
      "9/9 [==============================] - 0s 12ms/step - loss: 6.6828e-04 - val_loss: 0.0126\n",
      "Epoch 15/50\n",
      "9/9 [==============================] - 0s 12ms/step - loss: 6.5051e-04 - val_loss: 0.0124\n",
      "Epoch 16/50\n",
      "9/9 [==============================] - 0s 12ms/step - loss: 6.8756e-04 - val_loss: 0.0156\n",
      "Epoch 17/50\n",
      "9/9 [==============================] - 0s 11ms/step - loss: 6.7363e-04 - val_loss: 0.0102\n",
      "Epoch 18/50\n",
      "9/9 [==============================] - 0s 11ms/step - loss: 6.4239e-04 - val_loss: 0.0133\n",
      "Epoch 19/50\n",
      "9/9 [==============================] - 0s 12ms/step - loss: 6.2626e-04 - val_loss: 0.0124\n",
      "Epoch 20/50\n",
      "9/9 [==============================] - 0s 11ms/step - loss: 6.0807e-04 - val_loss: 0.0123\n",
      "Epoch 21/50\n",
      "9/9 [==============================] - 0s 11ms/step - loss: 6.0487e-04 - val_loss: 0.0112\n",
      "Epoch 22/50\n",
      "9/9 [==============================] - 0s 11ms/step - loss: 5.9116e-04 - val_loss: 0.0117\n",
      "Epoch 23/50\n",
      "9/9 [==============================] - 0s 11ms/step - loss: 5.9873e-04 - val_loss: 0.0095\n",
      "Epoch 24/50\n",
      "9/9 [==============================] - 0s 12ms/step - loss: 5.9241e-04 - val_loss: 0.0115\n",
      "Epoch 25/50\n",
      "9/9 [==============================] - 0s 13ms/step - loss: 5.9268e-04 - val_loss: 0.0099\n",
      "Epoch 26/50\n",
      "9/9 [==============================] - 0s 11ms/step - loss: 5.8309e-04 - val_loss: 0.0113\n",
      "Epoch 27/50\n",
      "9/9 [==============================] - 0s 11ms/step - loss: 5.8612e-04 - val_loss: 0.0086\n",
      "Epoch 28/50\n",
      "9/9 [==============================] - 0s 12ms/step - loss: 5.8163e-04 - val_loss: 0.0106\n",
      "Epoch 29/50\n",
      "9/9 [==============================] - 0s 11ms/step - loss: 5.5300e-04 - val_loss: 0.0099\n",
      "Epoch 30/50\n",
      "9/9 [==============================] - 0s 12ms/step - loss: 5.4708e-04 - val_loss: 0.0082\n",
      "Epoch 31/50\n",
      "9/9 [==============================] - 0s 11ms/step - loss: 5.4823e-04 - val_loss: 0.0103\n",
      "Epoch 32/50\n",
      "9/9 [==============================] - 0s 12ms/step - loss: 5.3722e-04 - val_loss: 0.0095\n",
      "Epoch 33/50\n",
      "9/9 [==============================] - 0s 11ms/step - loss: 5.2737e-04 - val_loss: 0.0081\n",
      "Epoch 34/50\n",
      "9/9 [==============================] - 0s 12ms/step - loss: 5.2855e-04 - val_loss: 0.0100\n",
      "Epoch 35/50\n",
      "9/9 [==============================] - 0s 13ms/step - loss: 5.2386e-04 - val_loss: 0.0083\n",
      "Epoch 36/50\n",
      "9/9 [==============================] - 0s 12ms/step - loss: 5.1411e-04 - val_loss: 0.0076\n",
      "Epoch 37/50\n",
      "9/9 [==============================] - 0s 11ms/step - loss: 5.0471e-04 - val_loss: 0.0078\n",
      "Epoch 38/50\n",
      "9/9 [==============================] - 0s 12ms/step - loss: 5.0909e-04 - val_loss: 0.0078\n",
      "Epoch 39/50\n",
      "9/9 [==============================] - 0s 12ms/step - loss: 5.0378e-04 - val_loss: 0.0081\n",
      "Epoch 40/50\n",
      "9/9 [==============================] - 0s 11ms/step - loss: 4.9944e-04 - val_loss: 0.0065\n",
      "Epoch 41/50\n",
      "9/9 [==============================] - 0s 11ms/step - loss: 4.9822e-04 - val_loss: 0.0090\n",
      "Epoch 42/50\n",
      "9/9 [==============================] - 0s 12ms/step - loss: 5.0606e-04 - val_loss: 0.0064\n",
      "Epoch 43/50\n",
      "9/9 [==============================] - 0s 12ms/step - loss: 4.9828e-04 - val_loss: 0.0066\n",
      "Epoch 44/50\n",
      "9/9 [==============================] - 0s 14ms/step - loss: 4.8228e-04 - val_loss: 0.0072\n",
      "Epoch 45/50\n",
      "9/9 [==============================] - 0s 12ms/step - loss: 4.9361e-04 - val_loss: 0.0057\n",
      "Epoch 46/50\n",
      "9/9 [==============================] - 0s 13ms/step - loss: 4.8887e-04 - val_loss: 0.0061\n",
      "Epoch 47/50\n",
      "9/9 [==============================] - 0s 12ms/step - loss: 4.7649e-04 - val_loss: 0.0079\n",
      "Epoch 48/50\n",
      "9/9 [==============================] - 0s 12ms/step - loss: 5.1488e-04 - val_loss: 0.0079\n",
      "Epoch 49/50\n",
      "9/9 [==============================] - 0s 12ms/step - loss: 4.8983e-04 - val_loss: 0.0057\n",
      "Epoch 50/50\n",
      "9/9 [==============================] - 0s 12ms/step - loss: 4.6492e-04 - val_loss: 0.0071\n"
     ]
    },
    {
     "data": {
      "text/plain": [
       "<keras.src.callbacks.History at 0x7efdc01a7b50>"
      ]
     },
     "execution_count": 91,
     "metadata": {},
     "output_type": "execute_result"
    }
   ],
   "source": [
    "model.fit(X_train, y_train, epochs=50, batch_size=32, validation_split=0.1)"
   ]
  },
  {
   "cell_type": "code",
   "execution_count": 92,
   "metadata": {},
   "outputs": [],
   "source": [
    "forecast = []\n",
    "current_batch = X_test[-1].reshape((1, sequence_length, len(features)))"
   ]
  },
  {
   "cell_type": "code",
   "execution_count": 93,
   "metadata": {},
   "outputs": [
    {
     "name": "stdout",
     "output_type": "stream",
     "text": [
      "1/1 [==============================] - 0s 268ms/step\n",
      "1/1 [==============================] - 0s 20ms/step\n",
      "1/1 [==============================] - 0s 20ms/step\n",
      "1/1 [==============================] - 0s 19ms/step\n",
      "1/1 [==============================] - 0s 19ms/step\n",
      "1/1 [==============================] - 0s 19ms/step\n",
      "1/1 [==============================] - 0s 19ms/step\n",
      "1/1 [==============================] - 0s 19ms/step\n",
      "1/1 [==============================] - 0s 21ms/step\n",
      "1/1 [==============================] - 0s 19ms/step\n",
      "1/1 [==============================] - 0s 19ms/step\n",
      "1/1 [==============================] - 0s 19ms/step\n",
      "1/1 [==============================] - 0s 19ms/step\n",
      "1/1 [==============================] - 0s 19ms/step\n",
      "1/1 [==============================] - 0s 19ms/step\n",
      "1/1 [==============================] - 0s 20ms/step\n",
      "1/1 [==============================] - 0s 36ms/step\n",
      "1/1 [==============================] - 0s 25ms/step\n",
      "1/1 [==============================] - 0s 21ms/step\n",
      "1/1 [==============================] - 0s 21ms/step\n",
      "1/1 [==============================] - 0s 21ms/step\n",
      "1/1 [==============================] - 0s 22ms/step\n",
      "1/1 [==============================] - 0s 20ms/step\n",
      "1/1 [==============================] - 0s 22ms/step\n",
      "1/1 [==============================] - 0s 21ms/step\n",
      "1/1 [==============================] - 0s 18ms/step\n",
      "1/1 [==============================] - 0s 18ms/step\n",
      "1/1 [==============================] - 0s 22ms/step\n",
      "1/1 [==============================] - 0s 20ms/step\n",
      "1/1 [==============================] - 0s 19ms/step\n",
      "1/1 [==============================] - 0s 19ms/step\n",
      "1/1 [==============================] - 0s 21ms/step\n",
      "1/1 [==============================] - 0s 26ms/step\n",
      "1/1 [==============================] - 0s 22ms/step\n",
      "1/1 [==============================] - 0s 20ms/step\n",
      "1/1 [==============================] - 0s 29ms/step\n",
      "1/1 [==============================] - 0s 19ms/step\n",
      "1/1 [==============================] - 0s 25ms/step\n",
      "1/1 [==============================] - 0s 22ms/step\n",
      "1/1 [==============================] - 0s 21ms/step\n",
      "1/1 [==============================] - 0s 21ms/step\n",
      "1/1 [==============================] - 0s 21ms/step\n",
      "1/1 [==============================] - 0s 20ms/step\n",
      "1/1 [==============================] - 0s 20ms/step\n",
      "1/1 [==============================] - 0s 20ms/step\n",
      "1/1 [==============================] - 0s 20ms/step\n",
      "1/1 [==============================] - 0s 20ms/step\n",
      "1/1 [==============================] - 0s 19ms/step\n",
      "1/1 [==============================] - 0s 20ms/step\n",
      "1/1 [==============================] - 0s 20ms/step\n",
      "1/1 [==============================] - 0s 20ms/step\n",
      "1/1 [==============================] - 0s 20ms/step\n",
      "1/1 [==============================] - 0s 23ms/step\n",
      "1/1 [==============================] - 0s 22ms/step\n",
      "1/1 [==============================] - 0s 20ms/step\n",
      "1/1 [==============================] - 0s 22ms/step\n",
      "1/1 [==============================] - 0s 18ms/step\n",
      "1/1 [==============================] - 0s 20ms/step\n",
      "1/1 [==============================] - 0s 20ms/step\n",
      "1/1 [==============================] - 0s 24ms/step\n",
      "1/1 [==============================] - 0s 22ms/step\n",
      "1/1 [==============================] - 0s 23ms/step\n",
      "1/1 [==============================] - 0s 24ms/step\n",
      "1/1 [==============================] - 0s 23ms/step\n",
      "1/1 [==============================] - 0s 21ms/step\n",
      "1/1 [==============================] - 0s 20ms/step\n",
      "1/1 [==============================] - 0s 21ms/step\n",
      "1/1 [==============================] - 0s 21ms/step\n",
      "1/1 [==============================] - 0s 20ms/step\n",
      "1/1 [==============================] - 0s 21ms/step\n",
      "1/1 [==============================] - 0s 22ms/step\n",
      "1/1 [==============================] - 0s 22ms/step\n",
      "1/1 [==============================] - 0s 22ms/step\n",
      "1/1 [==============================] - 0s 21ms/step\n",
      "1/1 [==============================] - 0s 19ms/step\n",
      "1/1 [==============================] - 0s 18ms/step\n",
      "1/1 [==============================] - 0s 22ms/step\n"
     ]
    }
   ],
   "source": [
    "for i in range(len(y_test)):\n",
    "    current_pred = model.predict(current_batch)[0]\n",
    "    forecast.append(current_pred)\n",
    "    current_batch = np.append(current_batch[:,1:,:],[[current_pred]],axis=1)"
   ]
  },
  {
   "cell_type": "code",
   "execution_count": 106,
   "metadata": {},
   "outputs": [
    {
     "name": "stderr",
     "output_type": "stream",
     "text": [
      "/tmp/ipykernel_4072/1701601951.py:2: FutureWarning: 'M' is deprecated and will be removed in a future version, please use 'ME' instead.\n",
      "  forecast_dates = pd.date_range(start=data['Date'].iloc[-1], periods=len(forecast)+1, freq='M')[1:]\n"
     ]
    }
   ],
   "source": [
    "forecast = scaler.inverse_transform(forecast)\n",
    "forecast_dates = pd.date_range(start=data['Date'].iloc[-1], periods=len(forecast)+1, freq='M')[1:]\n",
    "forecast_df = pd.DataFrame(forecast, columns=features)\n",
    "forecast_df['Date'] = forecast_dates"
   ]
  },
  {
   "cell_type": "code",
   "execution_count": 105,
   "metadata": {},
   "outputs": [
    {
     "data": {
      "image/png": "[encoded data removed]",
      "text/plain": [
       "<Figure size 1200x600 with 1 Axes>"
      ]
     },
     "metadata": {},
     "output_type": "display_data"
    }
   ],
   "source": [
    "import matplotlib.pyplot as plt\n",
    "\n",
    "# Plotting\n",
    "plt.figure(figsize=(12, 6))\n",
    "\n",
    "# Plot original data\n",
    "plt.plot(data['Date'], data['Close'], label='Original Data', color='green')\n",
    "\n",
    "# Plot forecasted data with steps\n",
    "plt.step(forecast_df['Date'], forecast_df['Close'], label='Forecasted Data', color='blue')\n",
    "\n",
    "plt.title('Tata Motors Monthly Stock Prices')\n",
    "plt.xlabel('Date')\n",
    "plt.ylabel('Close Price')\n",
    "plt.xticks(rotation=45)\n",
    "plt.legend()\n",
    "plt.grid(True)\n",
    "plt.show()\n"
   ]
  },
  {
   "cell_type": "code",
   "execution_count": null,
   "metadata": {},
   "outputs": [],
   "source": []
  }
 ],
 "metadata": {
  "kernelspec": {
   "display_name": "tensorflow",
   "language": "python",
   "name": "python3"
  },
  "language_info": {
   "codemirror_mode": {
    "name": "ipython",
    "version": 3
   },
   "file_extension": ".py",
   "mimetype": "text/x-python",
   "name": "python",
   "nbconvert_exporter": "python",
   "pygments_lexer": "ipython3",
   "version": "3.10.13"
  }
 },
 "nbformat": 4,
 "nbformat_minor": 2
}
